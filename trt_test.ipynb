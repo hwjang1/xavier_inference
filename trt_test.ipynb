{
 "cells": [
  {
   "cell_type": "code",
   "execution_count": 1,
   "metadata": {},
   "outputs": [],
   "source": [
    "from trt_engine import create_model_wrapper, InferenceRunner\n",
    "from yolo_nms import non_max_suppression, scale_boxes, xyxy2xywh\n",
    "import torch\n",
    "import cv2\n",
    "import itertools\n",
    "import numpy as np\n",
    "import tensorrt as trt\n",
    "import pycuda.autoinit\n",
    "import pycuda.driver as cuda\n",
    "import torch\n",
    "import torchvision"
   ]
  },
  {
   "cell_type": "code",
   "execution_count": 2,
   "metadata": {},
   "outputs": [],
   "source": [
    "names = ['dumping', 'gabbage', 'g2', 'g3']"
   ]
  },
  {
   "cell_type": "code",
   "execution_count": 3,
   "metadata": {},
   "outputs": [],
   "source": [
    "model_wrapper_dla = create_model_wrapper(\n",
    "        model_path='/data/cctv_nas/testbed_yolo_modf_qat_noqdq.engine',\n",
    "        batch_size=1,\n",
    "        device='cuda:0',\n",
    ")"
   ]
  },
  {
   "cell_type": "code",
   "execution_count": 4,
   "metadata": {},
   "outputs": [],
   "source": [
    "model_wrapper_gpu = create_model_wrapper(\n",
    "        model_path='/data/cctv_nas/testbed_qat_noqdq_3.engine',\n",
    "        batch_size=1,\n",
    "        device='cuda:0',\n",
    ")"
   ]
  },
  {
   "cell_type": "code",
   "execution_count": 5,
   "metadata": {},
   "outputs": [],
   "source": [
    "model_wrapper_best = create_model_wrapper(\n",
    "        model_path='/data/cctv_nas/best.engine',\n",
    "        batch_size=1,\n",
    "        device='cuda:0',\n",
    ")"
   ]
  },
  {
   "cell_type": "code",
   "execution_count": 6,
   "metadata": {},
   "outputs": [
    {
     "name": "stdout",
     "output_type": "stream",
     "text": [
      "Input 'images' with shape [1, 3, 640, 640] and dtype float32\n",
      "Output 'onnx::Shape_1814' with shape [1, 27, 80, 80] and dtype float32\n",
      "Output 'onnx::Shape_1868' with shape [1, 27, 40, 40] and dtype float32\n",
      "Output 'onnx::Shape_1924' with shape [1, 27, 20, 20] and dtype float32\n",
      "Output 'outputs' with shape [1, 25200, 9] and dtype float32\n",
      "Input 'images' with shape [1, 3, 640, 640] and dtype float32\n",
      "Output 'onnx::Sigmoid_1838' with shape [1, 3, 80, 80, 9] and dtype float32\n",
      "Output 'onnx::Sigmoid_1894' with shape [1, 3, 40, 40, 9] and dtype float32\n",
      "Output 'onnx::Sigmoid_1954' with shape [1, 3, 20, 20, 9] and dtype float32\n",
      "Output 'outputs' with shape [1, 25200, 9] and dtype float32\n",
      "Input 'images' with shape [1, 3, 640, 640] and dtype float32\n",
      "Output 'output0' with shape [1, 25200, 9] and dtype float32\n"
     ]
    }
   ],
   "source": [
    "# model_wrapper_ptq_slice.load_model()\n",
    "model_wrapper_dla.load_model()\n",
    "model_wrapper_gpu.load_model()\n",
    "# model_wrapper_gpu.load_model()\n",
    "model_wrapper_best.load_model()"
   ]
  },
  {
   "cell_type": "code",
   "execution_count": 9,
   "metadata": {},
   "outputs": [],
   "source": [
    "# inference_runner_ptq_slice = InferenceRunner(model_wrapper_ptq_slice, '/data/cctv_nas/validation_images', './results')"
   ]
  },
  {
   "cell_type": "code",
   "execution_count": 7,
   "metadata": {},
   "outputs": [],
   "source": [
    "inference_runner_dla = InferenceRunner(model_wrapper_dla, '/data/cctv_nas/validation_images', './results')"
   ]
  },
  {
   "cell_type": "code",
   "execution_count": 8,
   "metadata": {},
   "outputs": [],
   "source": [
    "inference_runner_gpu = InferenceRunner(model_wrapper_gpu, '/data/cctv_nas/validation_images', './results')"
   ]
  },
  {
   "cell_type": "code",
   "execution_count": 12,
   "metadata": {},
   "outputs": [],
   "source": [
    "# inference_runner_gpu = InferenceRunner(model_wrapper_gpu, '/data/cctv_nas/validation_images', './results')"
   ]
  },
  {
   "cell_type": "code",
   "execution_count": 9,
   "metadata": {},
   "outputs": [],
   "source": [
    "inference_runner_best = InferenceRunner(model_wrapper_best, '/data/cctv_nas/validation_images', './results')"
   ]
  },
  {
   "cell_type": "code",
   "execution_count": 14,
   "metadata": {},
   "outputs": [],
   "source": [
    "# inference_runner_ptq_slice.run()"
   ]
  },
  {
   "cell_type": "code",
   "execution_count": 10,
   "metadata": {},
   "outputs": [
    {
     "name": "stdout",
     "output_type": "stream",
     "text": [
      "Benchmark results include time for H2D and D2H memory copies\n",
      "Average Latency: 32.369 ms\n",
      "Average Throughput: 30.9 ips\n"
     ]
    }
   ],
   "source": [
    "inference_runner_dla.run()"
   ]
  },
  {
   "cell_type": "code",
   "execution_count": 11,
   "metadata": {},
   "outputs": [
    {
     "name": "stdout",
     "output_type": "stream",
     "text": [
      "Benchmark results include time for H2D and D2H memory copies\n",
      "Average Latency: 22.880 ms\n",
      "Average Throughput: 43.7 ips\n"
     ]
    }
   ],
   "source": [
    "inference_runner_gpu.run()"
   ]
  },
  {
   "cell_type": "code",
   "execution_count": 17,
   "metadata": {},
   "outputs": [],
   "source": [
    "# inference_runner_gpu.run()"
   ]
  },
  {
   "cell_type": "code",
   "execution_count": 12,
   "metadata": {},
   "outputs": [
    {
     "name": "stdout",
     "output_type": "stream",
     "text": [
      "Benchmark results include time for H2D and D2H memory copies\n",
      "Average Latency: 26.195 ms\n",
      "Average Throughput: 38.2 ips\n"
     ]
    }
   ],
   "source": [
    "inference_runner_best.run2()"
   ]
  }
 ],
 "metadata": {
  "kernelspec": {
   "display_name": "Python 3",
   "language": "python",
   "name": "python3"
  },
  "language_info": {
   "codemirror_mode": {
    "name": "ipython",
    "version": 3
   },
   "file_extension": ".py",
   "mimetype": "text/x-python",
   "name": "python",
   "nbconvert_exporter": "python",
   "pygments_lexer": "ipython3",
   "version": "3.8.10"
  }
 },
 "nbformat": 4,
 "nbformat_minor": 2
}
